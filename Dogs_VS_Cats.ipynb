{
 "cells": [
  {
   "cell_type": "markdown",
   "id": "27d9829a",
   "metadata": {},
   "source": [
    "# Cats Vs Dogs ML Project \n"
   ]
  },
  {
   "cell_type": "markdown",
   "id": "622d7860",
   "metadata": {},
   "source": [
    "-Dimple.K"
   ]
  },
  {
   "cell_type": "code",
   "execution_count": 1,
   "id": "1d79a2bb",
   "metadata": {},
   "outputs": [
    {
     "name": "stdout",
     "output_type": "stream",
     "text": [
      "Collecting package metadata (current_repodata.json): ...working... done\n",
      "Solving environment: ...working... done\n",
      "\n",
      "# All requested packages already installed.\n",
      "\n",
      "\n",
      "Note: you may need to restart the kernel to use updated packages.\n"
     ]
    }
   ],
   "source": [
    "conda install tensorflow"
   ]
  },
  {
   "cell_type": "code",
   "execution_count": 6,
   "id": "db2246c5",
   "metadata": {},
   "outputs": [
    {
     "name": "stdout",
     "output_type": "stream",
     "text": [
      "Collecting package metadata (current_repodata.json): ...working... done\n",
      "Solving environment: ...working... done\n",
      "\n",
      "## Package Plan ##\n",
      "\n",
      "  environment location: C:\\Users\\dimp1\\anaconda3\n",
      "\n",
      "  added / updated specs:\n",
      "    - keras\n",
      "\n",
      "\n",
      "The following packages will be downloaded:\n",
      "\n",
      "    package                    |            build\n",
      "    ---------------------------|-----------------\n",
      "    keras-2.4.3                |       hd3eb1b0_0           6 KB\n",
      "    keras-base-2.4.3           |     pyhd3eb1b0_0          30 KB\n",
      "    ------------------------------------------------------------\n",
      "                                           Total:          36 KB\n",
      "\n",
      "The following NEW packages will be INSTALLED:\n",
      "\n",
      "  keras              pkgs/main/noarch::keras-2.4.3-hd3eb1b0_0\n",
      "  keras-base         pkgs/main/noarch::keras-base-2.4.3-pyhd3eb1b0_0\n",
      "\n",
      "\n",
      "\n",
      "Downloading and Extracting Packages\n",
      "\n",
      "keras-2.4.3          | 6 KB      |            |   0% \n",
      "keras-2.4.3          | 6 KB      | ########## | 100% \n",
      "keras-2.4.3          | 6 KB      | ########## | 100% \n",
      "\n",
      "keras-base-2.4.3     | 30 KB     |            |   0% \n",
      "keras-base-2.4.3     | 30 KB     | ########## | 100% \n",
      "keras-base-2.4.3     | 30 KB     | ########## | 100% \n",
      "Preparing transaction: ...working... done\n",
      "Verifying transaction: ...working... done\n",
      "Executing transaction: ...working... done\n",
      "\n",
      "Note: you may need to restart the kernel to use updated packages.\n"
     ]
    }
   ],
   "source": [
    "conda install keras "
   ]
  },
  {
   "cell_type": "code",
   "execution_count": 32,
   "id": "3d0165ae",
   "metadata": {},
   "outputs": [],
   "source": [
    "#importing libraries\n",
    "import tensorflow as tf"
   ]
  },
  {
   "cell_type": "code",
   "execution_count": 33,
   "id": "cf8f33b8",
   "metadata": {},
   "outputs": [],
   "source": [
    "from keras.preprocessing.image import ImageDataGenerator"
   ]
  },
  {
   "cell_type": "code",
   "execution_count": 52,
   "id": "52ea4cc4",
   "metadata": {},
   "outputs": [
    {
     "name": "stdout",
     "output_type": "stream",
     "text": [
      "Found 8005 images belonging to 2 classes.\n"
     ]
    }
   ],
   "source": [
    "#data preprocessing\n",
    "train_datagen = ImageDataGenerator(\n",
    "        rescale=1./255,\n",
    "        shear_range=0.2,\n",
    "        zoom_range=0.2,\n",
    "        horizontal_flip=True)\n",
    "\n",
    "train_generator = train_datagen.flow_from_directory(\n",
    "        'dataset/training_set',\n",
    "        target_size=(64,64),\n",
    "        batch_size=32,\n",
    "        class_mode='binary')"
   ]
  },
  {
   "cell_type": "code",
   "execution_count": 53,
   "id": "e23a89a0",
   "metadata": {},
   "outputs": [
    {
     "name": "stdout",
     "output_type": "stream",
     "text": [
      "Found 2023 images belonging to 2 classes.\n"
     ]
    }
   ],
   "source": [
    "test_datagen = ImageDataGenerator(rescale=1./255)\n",
    "\n",
    "validation_generator = test_datagen.flow_from_directory(\n",
    "        'dataset/test_set',\n",
    "        target_size=(64,64),\n",
    "        batch_size=32,\n",
    "        class_mode='binary')"
   ]
  },
  {
   "cell_type": "code",
   "execution_count": 54,
   "id": "fdc17880",
   "metadata": {},
   "outputs": [],
   "source": [
    "#building cnn model\n",
    "#initialise model\n",
    "\n",
    "cnn=tf.keras.models.Sequential()"
   ]
  },
  {
   "cell_type": "code",
   "execution_count": 55,
   "id": "71cca592",
   "metadata": {},
   "outputs": [],
   "source": [
    "#convolution\n",
    "cnn.add(tf.keras.layers.Conv2D(filters=32,kernel_size=3,activation='relu',input_shape=[64,64,3]))"
   ]
  },
  {
   "cell_type": "code",
   "execution_count": 56,
   "id": "09ded6eb",
   "metadata": {},
   "outputs": [],
   "source": [
    "#pooling\n",
    "cnn.add(tf.keras.layers.MaxPool2D(pool_size=2,strides=2))"
   ]
  },
  {
   "cell_type": "code",
   "execution_count": 57,
   "id": "eab2cbe2",
   "metadata": {},
   "outputs": [],
   "source": [
    "#add another layer\n",
    "cnn.add(tf.keras.layers.Conv2D(filters=32,kernel_size=3,activation='relu',input_shape=[64,64,3]))\n",
    "\n",
    "cnn.add(tf.keras.layers.MaxPool2D(pool_size=2,strides=2))"
   ]
  },
  {
   "cell_type": "code",
   "execution_count": 58,
   "id": "19cd4d53",
   "metadata": {},
   "outputs": [],
   "source": [
    "#flatten\n",
    "cnn.add(tf.keras.layers.Flatten())"
   ]
  },
  {
   "cell_type": "code",
   "execution_count": 59,
   "id": "629a0b8c",
   "metadata": {},
   "outputs": [],
   "source": [
    "#full connection\n",
    "cnn.add(tf.keras.layers.Dense(units=128,activation='relu'))"
   ]
  },
  {
   "cell_type": "code",
   "execution_count": 60,
   "id": "813e7a5b",
   "metadata": {},
   "outputs": [],
   "source": [
    "#output layer\n",
    "cnn.add(tf.keras.layers.Dense(units=1,activation='sigmoid'))"
   ]
  },
  {
   "cell_type": "code",
   "execution_count": 61,
   "id": "f2f4c9e1",
   "metadata": {},
   "outputs": [],
   "source": [
    "#compile the model\n",
    "cnn.compile(optimizer='adam',loss='binary_crossentropy',metrics=['accuracy'])"
   ]
  },
  {
   "cell_type": "code",
   "execution_count": 74,
   "id": "fd14adbe",
   "metadata": {
    "scrolled": true
   },
   "outputs": [
    {
     "name": "stdout",
     "output_type": "stream",
     "text": [
      "Epoch 1/30\n",
      "251/251 [==============================] - 67s 269ms/step - loss: 0.3844 - accuracy: 0.8234 - val_loss: 0.4727 - val_accuracy: 0.7968\n",
      "Epoch 2/30\n",
      "251/251 [==============================] - 61s 244ms/step - loss: 0.3673 - accuracy: 0.8297 - val_loss: 0.4641 - val_accuracy: 0.7949\n",
      "Epoch 3/30\n",
      "251/251 [==============================] - 63s 253ms/step - loss: 0.3496 - accuracy: 0.8448 - val_loss: 0.5397 - val_accuracy: 0.7672\n",
      "Epoch 4/30\n",
      "251/251 [==============================] - 79s 316ms/step - loss: 0.3305 - accuracy: 0.8506 - val_loss: 0.4929 - val_accuracy: 0.7865\n",
      "Epoch 5/30\n",
      "251/251 [==============================] - 62s 247ms/step - loss: 0.3123 - accuracy: 0.8668 - val_loss: 0.5541 - val_accuracy: 0.7731\n",
      "Epoch 6/30\n",
      "251/251 [==============================] - 62s 246ms/step - loss: 0.3042 - accuracy: 0.8692 - val_loss: 0.5052 - val_accuracy: 0.8003\n",
      "Epoch 7/30\n",
      "251/251 [==============================] - 63s 252ms/step - loss: 0.2773 - accuracy: 0.8814 - val_loss: 0.5215 - val_accuracy: 0.7934\n",
      "Epoch 8/30\n",
      "251/251 [==============================] - 63s 251ms/step - loss: 0.2649 - accuracy: 0.8849 - val_loss: 0.5052 - val_accuracy: 0.8028\n",
      "Epoch 9/30\n",
      "251/251 [==============================] - 62s 245ms/step - loss: 0.2516 - accuracy: 0.8966 - val_loss: 0.5086 - val_accuracy: 0.7934\n",
      "Epoch 10/30\n",
      "251/251 [==============================] - 61s 243ms/step - loss: 0.2371 - accuracy: 0.9043 - val_loss: 0.5740 - val_accuracy: 0.7830\n",
      "Epoch 11/30\n",
      "251/251 [==============================] - 61s 243ms/step - loss: 0.2122 - accuracy: 0.9141 - val_loss: 0.6474 - val_accuracy: 0.7776\n",
      "Epoch 12/30\n",
      "251/251 [==============================] - 61s 243ms/step - loss: 0.2136 - accuracy: 0.9123 - val_loss: 0.6125 - val_accuracy: 0.7963\n",
      "Epoch 13/30\n",
      "251/251 [==============================] - 62s 247ms/step - loss: 0.1966 - accuracy: 0.9219 - val_loss: 0.6116 - val_accuracy: 0.7963\n",
      "Epoch 14/30\n",
      "251/251 [==============================] - 61s 243ms/step - loss: 0.1834 - accuracy: 0.9272 - val_loss: 0.6660 - val_accuracy: 0.7934\n",
      "Epoch 15/30\n",
      "251/251 [==============================] - 61s 244ms/step - loss: 0.1746 - accuracy: 0.9290 - val_loss: 0.6310 - val_accuracy: 0.7968\n",
      "Epoch 16/30\n",
      "251/251 [==============================] - 63s 250ms/step - loss: 0.1676 - accuracy: 0.9372 - val_loss: 0.6933 - val_accuracy: 0.7845\n",
      "Epoch 17/30\n",
      "251/251 [==============================] - 61s 245ms/step - loss: 0.1575 - accuracy: 0.9369 - val_loss: 0.7346 - val_accuracy: 0.7884\n",
      "Epoch 18/30\n",
      "251/251 [==============================] - 61s 243ms/step - loss: 0.1468 - accuracy: 0.9437 - val_loss: 0.7377 - val_accuracy: 0.7973\n",
      "Epoch 19/30\n",
      "251/251 [==============================] - 61s 244ms/step - loss: 0.1429 - accuracy: 0.9463 - val_loss: 0.6961 - val_accuracy: 0.7958\n",
      "Epoch 20/30\n",
      "251/251 [==============================] - 61s 243ms/step - loss: 0.1357 - accuracy: 0.9462 - val_loss: 0.7306 - val_accuracy: 0.7845\n",
      "Epoch 21/30\n",
      "251/251 [==============================] - 61s 243ms/step - loss: 0.1304 - accuracy: 0.9492 - val_loss: 0.7333 - val_accuracy: 0.8008\n",
      "Epoch 22/30\n",
      "251/251 [==============================] - 61s 244ms/step - loss: 0.1261 - accuracy: 0.9508 - val_loss: 0.7864 - val_accuracy: 0.7939\n",
      "Epoch 23/30\n",
      "251/251 [==============================] - 61s 245ms/step - loss: 0.1192 - accuracy: 0.9553 - val_loss: 0.8199 - val_accuracy: 0.7756\n",
      "Epoch 24/30\n",
      "251/251 [==============================] - 64s 257ms/step - loss: 0.1136 - accuracy: 0.9575 - val_loss: 0.8056 - val_accuracy: 0.7968\n",
      "Epoch 25/30\n",
      "251/251 [==============================] - 70s 281ms/step - loss: 0.1043 - accuracy: 0.9604 - val_loss: 0.7925 - val_accuracy: 0.7954\n",
      "Epoch 26/30\n",
      "251/251 [==============================] - 73s 289ms/step - loss: 0.1039 - accuracy: 0.9621 - val_loss: 0.7584 - val_accuracy: 0.7929\n",
      "Epoch 27/30\n",
      "251/251 [==============================] - 70s 278ms/step - loss: 0.0944 - accuracy: 0.9633 - val_loss: 0.9417 - val_accuracy: 0.7815\n",
      "Epoch 28/30\n",
      "251/251 [==============================] - 62s 246ms/step - loss: 0.0906 - accuracy: 0.9685 - val_loss: 0.8725 - val_accuracy: 0.7894\n",
      "Epoch 29/30\n",
      "251/251 [==============================] - 62s 246ms/step - loss: 0.0971 - accuracy: 0.9633 - val_loss: 0.8335 - val_accuracy: 0.7939\n",
      "Epoch 30/30\n",
      "251/251 [==============================] - 64s 254ms/step - loss: 0.0809 - accuracy: 0.9711 - val_loss: 0.9144 - val_accuracy: 0.7998\n"
     ]
    }
   ],
   "source": [
    "#train the model\n",
    "history = cnn.fit(x=train_generator, validation_data=validation_generator, epochs=30)"
   ]
  },
  {
   "cell_type": "code",
   "execution_count": 75,
   "id": "6d489a53",
   "metadata": {},
   "outputs": [],
   "source": [
    "#make single prediction\n",
    "import numpy as np\n",
    "from keras.preprocessing import image\n",
    "test_image=image.load_img(\"dataset/single_prediction/predict2.jpg\",target_size=(64,64))\n",
    "test_image=image.img_to_array(test_image)\n",
    "test_image=np.expand_dims(test_image,axis=0)\n",
    "result=cnn.predict(test_image)\n",
    "train_generator.class_indices\n",
    "if result[0][0]==1:\n",
    "    prediction='dog'\n",
    "else:\n",
    "    prediction='cat'"
   ]
  },
  {
   "cell_type": "code",
   "execution_count": 76,
   "id": "a3592941",
   "metadata": {},
   "outputs": [
    {
     "data": {
      "text/plain": [
       "'dog'"
      ]
     },
     "execution_count": 76,
     "metadata": {},
     "output_type": "execute_result"
    }
   ],
   "source": [
    "prediction"
   ]
  },
  {
   "cell_type": "code",
   "execution_count": 77,
   "id": "01f803f5",
   "metadata": {},
   "outputs": [
    {
     "name": "stdout",
     "output_type": "stream",
     "text": [
      "dict_keys(['loss', 'accuracy', 'val_loss', 'val_accuracy'])\n"
     ]
    }
   ],
   "source": [
    "import matplotlib.pyplot as plt\n",
    "print(history.history.keys())"
   ]
  },
  {
   "cell_type": "code",
   "execution_count": 78,
   "id": "de8517ef",
   "metadata": {},
   "outputs": [
    {
     "data": {
      "text/plain": [
       "[<matplotlib.lines.Line2D at 0x1f2047ba340>]"
      ]
     },
     "execution_count": 78,
     "metadata": {},
     "output_type": "execute_result"
    },
    {
     "data": {
      "image/png": "[encoded data removed]",
      "text/plain": [
       "<Figure size 432x288 with 1 Axes>"
      ]
     },
     "metadata": {
      "needs_background": "light"
     },
     "output_type": "display_data"
    }
   ],
   "source": [
    "plt.plot(history.history['accuracy'])\n",
    "plt.plot(history.history['val_loss'])\n",
    "plt.plot(history.history['val_accuracy'])"
   ]
  },
  {
   "cell_type": "code",
   "execution_count": null,
   "id": "cb9c481f",
   "metadata": {},
   "outputs": [],
   "source": []
  }
 ],
 "metadata": {
  "kernelspec": {
   "display_name": "Python 3",
   "language": "python",
   "name": "python3"
  },
  "language_info": {
   "codemirror_mode": {
    "name": "ipython",
    "version": 3
   },
   "file_extension": ".py",
   "mimetype": "text/x-python",
   "name": "python",
   "nbconvert_exporter": "python",
   "pygments_lexer": "ipython3",
   "version": "3.8.8"
  }
 },
 "nbformat": 4,
 "nbformat_minor": 5
}
